{
 "cells": [
  {
   "cell_type": "code",
   "execution_count": 1,
   "id": "2ebf5e5f",
   "metadata": {},
   "outputs": [
    {
     "name": "stdout",
     "output_type": "stream",
     "text": [
      "Requirement already satisfied: ipynb in c:\\users\\mosta\\anaconda3\\envs\\tensorflow\\lib\\site-packages (0.5.1)\n"
     ]
    }
   ],
   "source": [
    "!pip install ipynb"
   ]
  },
  {
   "cell_type": "code",
   "execution_count": 2,
   "id": "b37c9f07",
   "metadata": {},
   "outputs": [],
   "source": [
    "import numpy as np\n",
    "import cv2\n",
    "from PIL import Image\n",
    "import os\n",
    "from ipynb.fs.full.functions import *"
   ]
  },
  {
   "cell_type": "code",
   "execution_count": 3,
   "id": "8c941b42",
   "metadata": {},
   "outputs": [],
   "source": [
    "mild_demented_images=load_images_from_folder('C:\\myfiles\\MildDemented-train')[0]\n",
    "mild_demented_labels=load_images_from_folder('C:\\myfiles\\MildDemented-train')[1]\n",
    "moderate_demented_images=load_images_from_folder('C:\\myfiles\\ModerateDemented-train')[0]\n",
    "moderate_demented_labels=load_images_from_folder('C:\\myfiles\\ModerateDemented-train')[1]\n",
    "non_demented_images=load_images_from_folder(r'C:\\myfiles\\NonDemented-train')[0]\n",
    "non_demented_labels=load_images_from_folder(r'C:\\myfiles\\NonDemented-train')[1]\n",
    "very_mild_demented_images=load_images_from_folder('C:\\myfiles\\VeryMildDemented-train')[0]\n",
    "very_mild_demented_labels=load_images_from_folder('C:\\myfiles\\VeryMildDemented-train')[1]\n",
    "\n"
   ]
  },
  {
   "cell_type": "code",
   "execution_count": 4,
   "id": "01ca861e",
   "metadata": {},
   "outputs": [],
   "source": [
    "training_images=np.array(mild_demented_images+moderate_demented_images+non_demented_images+very_mild_demented_images)\n",
    "training_labels=np.array(mild_demented_labels+moderate_demented_labels+non_demented_labels+very_mild_demented_labels)\n"
   ]
  },
  {
   "cell_type": "code",
   "execution_count": null,
   "id": "ab0cd045",
   "metadata": {},
   "outputs": [],
   "source": [
    "\n"
   ]
  },
  {
   "cell_type": "code",
   "execution_count": 5,
   "id": "41e17127",
   "metadata": {},
   "outputs": [
    {
     "data": {
      "text/plain": [
       "'ModerateDemented-train'"
      ]
     },
     "execution_count": 5,
     "metadata": {},
     "output_type": "execute_result"
    }
   ],
   "source": [
    "training_labels[750]"
   ]
  },
  {
   "cell_type": "code",
   "execution_count": 6,
   "id": "5421c100",
   "metadata": {},
   "outputs": [
    {
     "data": {
      "text/plain": [
       "array([0, 0, 0, ..., 3, 3, 3], dtype=int64)"
      ]
     },
     "execution_count": 6,
     "metadata": {},
     "output_type": "execute_result"
    }
   ],
   "source": [
    "from sklearn.preprocessing import LabelEncoder\n",
    "le=LabelEncoder()\n",
    "training_labels2=le.fit_transform(training_labels)\n",
    "\n",
    "training_labels2"
   ]
  },
  {
   "cell_type": "code",
   "execution_count": 7,
   "id": "e906555b",
   "metadata": {},
   "outputs": [
    {
     "data": {
      "text/plain": [
       "(5121, 109824)"
      ]
     },
     "execution_count": 7,
     "metadata": {},
     "output_type": "execute_result"
    }
   ],
   "source": [
    "\n",
    "training_images=training_images.reshape(training_images.shape[0],109824)\n",
    "training_images.shape"
   ]
  },
  {
   "cell_type": "code",
   "execution_count": 8,
   "id": "c572e227",
   "metadata": {},
   "outputs": [
    {
     "data": {
      "text/plain": [
       "KNeighborsClassifier(n_neighbors=3)"
      ]
     },
     "execution_count": 8,
     "metadata": {},
     "output_type": "execute_result"
    }
   ],
   "source": [
    "from sklearn.neighbors import KNeighborsClassifier\n",
    "neigh = KNeighborsClassifier(n_neighbors=3)\n",
    "neigh.fit(training_images,training_labels2)"
   ]
  },
  {
   "cell_type": "code",
   "execution_count": null,
   "id": "2e90da07",
   "metadata": {},
   "outputs": [],
   "source": []
  },
  {
   "cell_type": "code",
   "execution_count": 9,
   "id": "4e6bc0d0",
   "metadata": {},
   "outputs": [],
   "source": [
    "mild_demented_images_test=load_images_from_folder('C:\\myfiles\\MildDemented')[0]\n",
    "mild_demented_labels_test=load_images_from_folder('C:\\myfiles\\MildDemented')[1]\n",
    "moderate_demented_images_test=load_images_from_folder('C:\\myfiles\\ModerateDemented')[0]\n",
    "moderate_demented_labels_test=load_images_from_folder('C:\\myfiles\\ModerateDemented')[1]\n",
    "non_demented_images_test=load_images_from_folder(r'C:\\myfiles\\NonDemented')[0]\n",
    "non_demented_labels_test=load_images_from_folder(r'C:\\myfiles\\NonDemented')[1]\n",
    "very_mild_demented_images_test=load_images_from_folder('C:\\myfiles\\VeryMildDemented')[0]\n",
    "very_mild_demented_labels_test=load_images_from_folder('C:\\myfiles\\VeryMildDemented')[1]\n",
    "\n"
   ]
  },
  {
   "cell_type": "code",
   "execution_count": 10,
   "id": "dafc33b8",
   "metadata": {},
   "outputs": [],
   "source": [
    "test_images=np.array(mild_demented_images_test+moderate_demented_images_test+non_demented_images_test+very_mild_demented_images_test)\n",
    "test_labels=np.array(mild_demented_labels_test+moderate_demented_labels_test+non_demented_labels_test+very_mild_demented_labels_test)"
   ]
  },
  {
   "cell_type": "code",
   "execution_count": 11,
   "id": "564c36b6",
   "metadata": {},
   "outputs": [],
   "source": [
    "test_images=test_images.reshape(test_images.shape[0],109824)"
   ]
  },
  {
   "cell_type": "code",
   "execution_count": 12,
   "id": "1a9e6d38",
   "metadata": {},
   "outputs": [],
   "source": [
    "predicted=neigh.predict(test_images)"
   ]
  },
  {
   "cell_type": "code",
   "execution_count": 13,
   "id": "e93906cc",
   "metadata": {},
   "outputs": [],
   "source": [
    "from sklearn.preprocessing import LabelEncoder\n",
    "le=LabelEncoder()\n",
    "test_labels2=le.fit_transform(test_labels)\n"
   ]
  },
  {
   "cell_type": "code",
   "execution_count": 14,
   "id": "363629d3",
   "metadata": {},
   "outputs": [
    {
     "data": {
      "text/plain": [
       "0.9471875"
      ]
     },
     "execution_count": 14,
     "metadata": {},
     "output_type": "execute_result"
    }
   ],
   "source": [
    "from sklearn.metrics import accuracy_score\n",
    "acc = accuracy_score(test_labels2, predicted)\n",
    "acc"
   ]
  },
  {
   "cell_type": "code",
   "execution_count": null,
   "id": "89fc346f",
   "metadata": {},
   "outputs": [],
   "source": []
  }
 ],
 "metadata": {
  "kernelspec": {
   "display_name": "Python 3",
   "language": "python",
   "name": "python3"
  },
  "language_info": {
   "codemirror_mode": {
    "name": "ipython",
    "version": 3
   },
   "file_extension": ".py",
   "mimetype": "text/x-python",
   "name": "python",
   "nbconvert_exporter": "python",
   "pygments_lexer": "ipython3",
   "version": "3.8.8"
  }
 },
 "nbformat": 4,
 "nbformat_minor": 5
}
